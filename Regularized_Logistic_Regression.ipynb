{
  "nbformat": 4,
  "nbformat_minor": 0,
  "metadata": {
    "colab": {
      "provenance": []
    },
    "kernelspec": {
      "name": "python3",
      "display_name": "Python 3"
    },
    "language_info": {
      "name": "python"
    }
  },
  "cells": [
    {
      "cell_type": "code",
      "execution_count": 1,
      "metadata": {
        "colab": {
          "base_uri": "https://localhost:8080/"
        },
        "id": "LkCipJF-F-wK",
        "outputId": "3ed98e30-99da-43d6-9575-5a5baef28b48"
      },
      "outputs": [
        {
          "output_type": "stream",
          "name": "stdout",
          "text": [
            "Mounted at /content/drive\n"
          ]
        }
      ],
      "source": [
        "import pandas as pd\n",
        "import matplotlib.pyplot as plt\n",
        "import csv\n",
        "import numpy as np\n",
        "import seaborn as sns\n",
        "from google.colab import drive\n",
        "drive.mount('/content/drive')"
      ]
    },
    {
      "cell_type": "code",
      "source": [
        "data_path = '/content/drive/MyDrive/ML-Assignment-2/data2.txt'"
      ],
      "metadata": {
        "id": "--d7rlbMGyjX"
      },
      "execution_count": 2,
      "outputs": []
    },
    {
      "cell_type": "code",
      "source": [
        "data = pd.read_csv(data_path, header=None, names = [\"x1\",\"x2\",\"y\"])\n",
        "data.head()"
      ],
      "metadata": {
        "id": "_ET7Ev_8HF6L",
        "colab": {
          "base_uri": "https://localhost:8080/",
          "height": 206
        },
        "outputId": "4385fca1-7590-41d4-db45-4f82464927dd"
      },
      "execution_count": 3,
      "outputs": [
        {
          "output_type": "execute_result",
          "data": {
            "text/plain": [
              "         x1       x2  y\n",
              "0  0.051267  0.69956  1\n",
              "1 -0.092742  0.68494  1\n",
              "2 -0.213710  0.69225  1\n",
              "3 -0.375000  0.50219  1\n",
              "4 -0.513250  0.46564  1"
            ],
            "text/html": [
              "\n",
              "  <div id=\"df-c029b53b-2be9-478a-bb7d-cbde14ff2c45\">\n",
              "    <div class=\"colab-df-container\">\n",
              "      <div>\n",
              "<style scoped>\n",
              "    .dataframe tbody tr th:only-of-type {\n",
              "        vertical-align: middle;\n",
              "    }\n",
              "\n",
              "    .dataframe tbody tr th {\n",
              "        vertical-align: top;\n",
              "    }\n",
              "\n",
              "    .dataframe thead th {\n",
              "        text-align: right;\n",
              "    }\n",
              "</style>\n",
              "<table border=\"1\" class=\"dataframe\">\n",
              "  <thead>\n",
              "    <tr style=\"text-align: right;\">\n",
              "      <th></th>\n",
              "      <th>x1</th>\n",
              "      <th>x2</th>\n",
              "      <th>y</th>\n",
              "    </tr>\n",
              "  </thead>\n",
              "  <tbody>\n",
              "    <tr>\n",
              "      <th>0</th>\n",
              "      <td>0.051267</td>\n",
              "      <td>0.69956</td>\n",
              "      <td>1</td>\n",
              "    </tr>\n",
              "    <tr>\n",
              "      <th>1</th>\n",
              "      <td>-0.092742</td>\n",
              "      <td>0.68494</td>\n",
              "      <td>1</td>\n",
              "    </tr>\n",
              "    <tr>\n",
              "      <th>2</th>\n",
              "      <td>-0.213710</td>\n",
              "      <td>0.69225</td>\n",
              "      <td>1</td>\n",
              "    </tr>\n",
              "    <tr>\n",
              "      <th>3</th>\n",
              "      <td>-0.375000</td>\n",
              "      <td>0.50219</td>\n",
              "      <td>1</td>\n",
              "    </tr>\n",
              "    <tr>\n",
              "      <th>4</th>\n",
              "      <td>-0.513250</td>\n",
              "      <td>0.46564</td>\n",
              "      <td>1</td>\n",
              "    </tr>\n",
              "  </tbody>\n",
              "</table>\n",
              "</div>\n",
              "      <button class=\"colab-df-convert\" onclick=\"convertToInteractive('df-c029b53b-2be9-478a-bb7d-cbde14ff2c45')\"\n",
              "              title=\"Convert this dataframe to an interactive table.\"\n",
              "              style=\"display:none;\">\n",
              "        \n",
              "  <svg xmlns=\"http://www.w3.org/2000/svg\" height=\"24px\"viewBox=\"0 0 24 24\"\n",
              "       width=\"24px\">\n",
              "    <path d=\"M0 0h24v24H0V0z\" fill=\"none\"/>\n",
              "    <path d=\"M18.56 5.44l.94 2.06.94-2.06 2.06-.94-2.06-.94-.94-2.06-.94 2.06-2.06.94zm-11 1L8.5 8.5l.94-2.06 2.06-.94-2.06-.94L8.5 2.5l-.94 2.06-2.06.94zm10 10l.94 2.06.94-2.06 2.06-.94-2.06-.94-.94-2.06-.94 2.06-2.06.94z\"/><path d=\"M17.41 7.96l-1.37-1.37c-.4-.4-.92-.59-1.43-.59-.52 0-1.04.2-1.43.59L10.3 9.45l-7.72 7.72c-.78.78-.78 2.05 0 2.83L4 21.41c.39.39.9.59 1.41.59.51 0 1.02-.2 1.41-.59l7.78-7.78 2.81-2.81c.8-.78.8-2.07 0-2.86zM5.41 20L4 18.59l7.72-7.72 1.47 1.35L5.41 20z\"/>\n",
              "  </svg>\n",
              "      </button>\n",
              "      \n",
              "  <style>\n",
              "    .colab-df-container {\n",
              "      display:flex;\n",
              "      flex-wrap:wrap;\n",
              "      gap: 12px;\n",
              "    }\n",
              "\n",
              "    .colab-df-convert {\n",
              "      background-color: #E8F0FE;\n",
              "      border: none;\n",
              "      border-radius: 50%;\n",
              "      cursor: pointer;\n",
              "      display: none;\n",
              "      fill: #1967D2;\n",
              "      height: 32px;\n",
              "      padding: 0 0 0 0;\n",
              "      width: 32px;\n",
              "    }\n",
              "\n",
              "    .colab-df-convert:hover {\n",
              "      background-color: #E2EBFA;\n",
              "      box-shadow: 0px 1px 2px rgba(60, 64, 67, 0.3), 0px 1px 3px 1px rgba(60, 64, 67, 0.15);\n",
              "      fill: #174EA6;\n",
              "    }\n",
              "\n",
              "    [theme=dark] .colab-df-convert {\n",
              "      background-color: #3B4455;\n",
              "      fill: #D2E3FC;\n",
              "    }\n",
              "\n",
              "    [theme=dark] .colab-df-convert:hover {\n",
              "      background-color: #434B5C;\n",
              "      box-shadow: 0px 1px 3px 1px rgba(0, 0, 0, 0.15);\n",
              "      filter: drop-shadow(0px 1px 2px rgba(0, 0, 0, 0.3));\n",
              "      fill: #FFFFFF;\n",
              "    }\n",
              "  </style>\n",
              "\n",
              "      <script>\n",
              "        const buttonEl =\n",
              "          document.querySelector('#df-c029b53b-2be9-478a-bb7d-cbde14ff2c45 button.colab-df-convert');\n",
              "        buttonEl.style.display =\n",
              "          google.colab.kernel.accessAllowed ? 'block' : 'none';\n",
              "\n",
              "        async function convertToInteractive(key) {\n",
              "          const element = document.querySelector('#df-c029b53b-2be9-478a-bb7d-cbde14ff2c45');\n",
              "          const dataTable =\n",
              "            await google.colab.kernel.invokeFunction('convertToInteractive',\n",
              "                                                     [key], {});\n",
              "          if (!dataTable) return;\n",
              "\n",
              "          const docLinkHtml = 'Like what you see? Visit the ' +\n",
              "            '<a target=\"_blank\" href=https://colab.research.google.com/notebooks/data_table.ipynb>data table notebook</a>'\n",
              "            + ' to learn more about interactive tables.';\n",
              "          element.innerHTML = '';\n",
              "          dataTable['output_type'] = 'display_data';\n",
              "          await google.colab.output.renderOutput(dataTable, element);\n",
              "          const docLink = document.createElement('div');\n",
              "          docLink.innerHTML = docLinkHtml;\n",
              "          element.appendChild(docLink);\n",
              "        }\n",
              "      </script>\n",
              "    </div>\n",
              "  </div>\n",
              "  "
            ]
          },
          "metadata": {},
          "execution_count": 3
        }
      ]
    },
    {
      "cell_type": "code",
      "source": [
        "def plotData(data, label_x, label_y, label_pos, label_neg, axes=None):\n",
        "    # Get indexes for class 0 and class 1\n",
        "    neg = data['y'] == 0\n",
        "    pos = data['y'] == 1\n",
        "    \n",
        "    # If no specific axes object has been passed, get the current axes.\n",
        "    if axes == None:\n",
        "        axes = plt.gca()\n",
        "    axes.scatter(data[pos]['x1'], data[pos]['x2'], marker='+', c='orange', s=60, linewidth=2, label=label_pos)\n",
        "    axes.scatter(data[neg]['x1'], data[neg]['x2'], c='blue', s=60, label=label_neg)\n",
        "    axes.set_xlabel(label_x)\n",
        "    axes.set_ylabel(label_y)\n",
        "    axes.legend(frameon= True, fancybox = True);"
      ],
      "metadata": {
        "id": "WQsM0IONHNWP"
      },
      "execution_count": 15,
      "outputs": []
    },
    {
      "cell_type": "code",
      "source": [
        "plotData(data, 'Microchip Test 1', 'Microchip Test 2', 'y = 1', 'y = 0')"
      ],
      "metadata": {
        "id": "mPAeH_KOHRru",
        "colab": {
          "base_uri": "https://localhost:8080/",
          "height": 279
        },
        "outputId": "0540f543-d30c-44cb-f614-433025ffdde8"
      },
      "execution_count": 16,
      "outputs": [
        {
          "output_type": "display_data",
          "data": {
            "text/plain": [
              "<Figure size 432x288 with 1 Axes>"
            ],
            "image/png": "[encoded data removed]"
          },
          "metadata": {
            "needs_background": "light"
          }
        }
      ]
    },
    {
      "cell_type": "code",
      "source": [
        "n = data.shape[1]-1\n",
        "x = data[data.columns[0:n]]\n",
        "\n",
        "y = data[data.columns[n:n+1]]\n",
        "# convert to np.array\n",
        "X = x.values\n",
        "y = y.values"
      ],
      "metadata": {
        "id": "v232jZmWHULu"
      },
      "execution_count": 17,
      "outputs": []
    },
    {
      "cell_type": "code",
      "source": [
        "def mapFeature( x1col, x2col):\n",
        "    degrees = 6\n",
        "    out = np.ones( (x1col.shape[0], 1) )\n",
        "\n",
        "    for i in range(1, degrees+1):\n",
        "        for j in range(0, i+1):\n",
        "            term1 = x1col ** (i-j)\n",
        "            term2 = x2col ** (j)\n",
        "            term  = (term1 * term2).reshape( term1.shape[0], 1 ) \n",
        "            out   = np.hstack(( out, term ))\n",
        "    return out"
      ],
      "metadata": {
        "id": "XgO2azaRdPCc"
      },
      "execution_count": 18,
      "outputs": []
    },
    {
      "cell_type": "code",
      "source": [
        "XX = mapFeature(X[:,0],X[:,1])\n",
        "print(X.shape, XX.shape)"
      ],
      "metadata": {
        "id": "4zmnrt28HZF3",
        "colab": {
          "base_uri": "https://localhost:8080/"
        },
        "outputId": "f8a852a3-7386-4dee-88ad-2b8521892c5c"
      },
      "execution_count": 19,
      "outputs": [
        {
          "output_type": "stream",
          "name": "stdout",
          "text": [
            "(118, 2) (118, 28)\n"
          ]
        }
      ]
    },
    {
      "cell_type": "code",
      "source": [
        "# from scipy.special import expit #Vectorized sigmoid function\n",
        "\n",
        "# #Hypothesis function and cost function for logistic regression\n",
        "# def h(mytheta,myX): #Logistic hypothesis function\n",
        "#     return expit(np.dot(myX,mytheta))\n",
        "\n",
        "\n",
        "\n",
        "def sigmoid(z):\n",
        "   s = 1 / (1 + np.exp(-z))\n",
        "   return s"
      ],
      "metadata": {
        "id": "sxKJKwaKLP5G"
      },
      "execution_count": 20,
      "outputs": []
    },
    {
      "cell_type": "code",
      "source": [
        "def initialize_with_zeros(dim):\n",
        "    w = np.zeros([dim, 1])\n",
        "    b = 0.0\n",
        "\n",
        "    assert(w.shape == (dim, 1))\n",
        "    assert(isinstance(b, float) or isinstance(b, int))\n",
        "    \n",
        "    return w, b"
      ],
      "metadata": {
        "id": "AmsfWeZoYsqo"
      },
      "execution_count": 21,
      "outputs": []
    },
    {
      "cell_type": "code",
      "source": [
        "\n",
        "# #Cost function, default lambda (regularization) 0\n",
        "# def computeCost(mytheta,myX,myy,mylambda = 0.): \n",
        "\n",
        "#     m = myy.size # number of training examples\n",
        "\n",
        "#     term1 = np.dot(-np.array(myy).T,np.log(h(mytheta,myX)))\n",
        "#     term2 = np.dot((1-np.array(myy)).T,np.log(1-h(mytheta,myX)))\n",
        "#     regterm = (mylambda/2) * np.sum(np.dot(mytheta[1:].T,mytheta[1:])) #Skip theta0\n",
        "#     return float( (1./m) * ( np.sum(term1 - term2) + regterm ) )\n",
        "\n",
        "\n",
        "def propagate(w, X, Y, lambd = 0.):\n",
        "\n",
        "    m = X.shape[1]\n",
        "\n",
        "    A = sigmoid(np.dot(w.T, X))\n",
        "    cost = (-1 / m) * np.sum((Y * np.log(A)) + ((1-Y) * np.log(1-A))) + (lambd/(2*m)) * np.sum(np.dot(w, w.T))\n",
        "    dw = (1 / m) * np.dot(X, (A - Y).T) + (lambd /m) * w\n",
        "    return dw, cost"
      ],
      "metadata": {
        "id": "pSqGpkkbHetr"
      },
      "execution_count": 76,
      "outputs": []
    },
    {
      "cell_type": "code",
      "source": [
        "XX = XX.T"
      ],
      "metadata": {
        "id": "sef50SpxY6Mg"
      },
      "execution_count": 23,
      "outputs": []
    },
    {
      "cell_type": "code",
      "source": [
        "w, b = initialize_with_zeros(XX.shape[0])\n",
        "print(XX.shape)\n",
        "print(w.shape)\n",
        "print(y.shape)"
      ],
      "metadata": {
        "id": "zsnLy8rrXZUy",
        "outputId": "4bbfe044-06fe-49cb-e952-68346cd71b5e",
        "colab": {
          "base_uri": "https://localhost:8080/"
        }
      },
      "execution_count": 24,
      "outputs": [
        {
          "output_type": "stream",
          "name": "stdout",
          "text": [
            "(28, 118)\n",
            "(28, 1)\n",
            "(118, 1)\n"
          ]
        }
      ]
    },
    {
      "cell_type": "code",
      "source": [
        "def optimize(w, X, Y, num_iterations, learning_rate, print_cost = False, lambd  = 0):\n",
        "\n",
        "    \n",
        "    costs = []\n",
        "    mincost = 0\n",
        "    for i in range(num_iterations):\n",
        "        \n",
        "        \n",
        "        # Cost and gradient calculation (≈ 1-4 lines of code)\n",
        "        ### START CODE HERE ### \n",
        "        dw, cost = propagate(w, X, Y, lambd)\n",
        "        \n",
        "        # update rule (≈ 2 lines of code)\n",
        "        ### START CODE HERE ###\n",
        "        w = w - learning_rate * dw\n",
        "        ### END CODE HERE ###\n",
        "        \n",
        "        # Record the costs\n",
        "        mincost = cost\n",
        "        if i % 10000 == 0:\n",
        "            costs.append(cost)\n",
        "        \n",
        "        # Print the cost every 100 training iterations\n",
        "        if print_cost and i % 10000 == 0:\n",
        "            print (\"Cost after iteration %i: %f\" %(i, cost))\n",
        "    \n",
        "\n",
        "    \n",
        "    return w, mincost"
      ],
      "metadata": {
        "id": "SWqHfcXam2NW"
      },
      "execution_count": 74,
      "outputs": []
    },
    {
      "cell_type": "code",
      "source": [
        "# dw, cost = propagate(w, XX, y.T)\n",
        "w, mincost = optimize(w, XX, y.T, num_iterations= 1000000, learning_rate = 0.001, print_cost = False, lambd = 1)\n",
        "print(w)\n",
        "print(mincost)"
      ],
      "metadata": {
        "id": "I-cvWzgGYU21",
        "outputId": "60a30ee9-c271-4a11-8633-fdf72a5bf37f",
        "colab": {
          "base_uri": "https://localhost:8080/",
          "height": 350
        }
      },
      "execution_count": 75,
      "outputs": [
        {
          "output_type": "error",
          "ename": "NameError",
          "evalue": "ignored",
          "traceback": [
            "\u001b[0;31m---------------------------------------------------------------------------\u001b[0m",
            "\u001b[0;31mNameError\u001b[0m                                 Traceback (most recent call last)",
            "\u001b[0;32m<ipython-input-75-1bc3b701ef19>\u001b[0m in \u001b[0;36m<module>\u001b[0;34m\u001b[0m\n\u001b[1;32m      1\u001b[0m \u001b[0;31m# dw, cost = propagate(w, XX, y.T)\u001b[0m\u001b[0;34m\u001b[0m\u001b[0;34m\u001b[0m\u001b[0;34m\u001b[0m\u001b[0m\n\u001b[0;32m----> 2\u001b[0;31m \u001b[0mw\u001b[0m\u001b[0;34m,\u001b[0m \u001b[0mmincost\u001b[0m \u001b[0;34m=\u001b[0m \u001b[0moptimize\u001b[0m\u001b[0;34m(\u001b[0m\u001b[0mw\u001b[0m\u001b[0;34m,\u001b[0m \u001b[0mXX\u001b[0m\u001b[0;34m,\u001b[0m \u001b[0my\u001b[0m\u001b[0;34m.\u001b[0m\u001b[0mT\u001b[0m\u001b[0;34m,\u001b[0m \u001b[0mnum_iterations\u001b[0m\u001b[0;34m=\u001b[0m \u001b[0;36m1000000\u001b[0m\u001b[0;34m,\u001b[0m \u001b[0mlearning_rate\u001b[0m \u001b[0;34m=\u001b[0m \u001b[0;36m0.001\u001b[0m\u001b[0;34m,\u001b[0m \u001b[0mprint_cost\u001b[0m \u001b[0;34m=\u001b[0m \u001b[0;32mFalse\u001b[0m\u001b[0;34m,\u001b[0m \u001b[0mlambd\u001b[0m \u001b[0;34m=\u001b[0m \u001b[0;36m1\u001b[0m\u001b[0;34m)\u001b[0m\u001b[0;34m\u001b[0m\u001b[0;34m\u001b[0m\u001b[0m\n\u001b[0m\u001b[1;32m      3\u001b[0m \u001b[0mprint\u001b[0m\u001b[0;34m(\u001b[0m\u001b[0mw\u001b[0m\u001b[0;34m)\u001b[0m\u001b[0;34m\u001b[0m\u001b[0;34m\u001b[0m\u001b[0m\n\u001b[1;32m      4\u001b[0m \u001b[0mprint\u001b[0m\u001b[0;34m(\u001b[0m\u001b[0mmincost\u001b[0m\u001b[0;34m)\u001b[0m\u001b[0;34m\u001b[0m\u001b[0;34m\u001b[0m\u001b[0m\n",
            "\u001b[0;32m<ipython-input-74-d1da61c542d0>\u001b[0m in \u001b[0;36moptimize\u001b[0;34m(w, X, Y, num_iterations, learning_rate, print_cost, lambd)\u001b[0m\n\u001b[1;32m      9\u001b[0m         \u001b[0;31m# Cost and gradient calculation (≈ 1-4 lines of code)\u001b[0m\u001b[0;34m\u001b[0m\u001b[0;34m\u001b[0m\u001b[0;34m\u001b[0m\u001b[0m\n\u001b[1;32m     10\u001b[0m         \u001b[0;31m### START CODE HERE ###\u001b[0m\u001b[0;34m\u001b[0m\u001b[0;34m\u001b[0m\u001b[0;34m\u001b[0m\u001b[0m\n\u001b[0;32m---> 11\u001b[0;31m         \u001b[0mdw\u001b[0m\u001b[0;34m,\u001b[0m \u001b[0mcost\u001b[0m \u001b[0;34m=\u001b[0m \u001b[0mpropagate\u001b[0m\u001b[0;34m(\u001b[0m\u001b[0mw\u001b[0m\u001b[0;34m,\u001b[0m \u001b[0mX\u001b[0m\u001b[0;34m,\u001b[0m \u001b[0mY\u001b[0m\u001b[0;34m,\u001b[0m \u001b[0mlambd\u001b[0m\u001b[0;34m)\u001b[0m\u001b[0;34m\u001b[0m\u001b[0;34m\u001b[0m\u001b[0m\n\u001b[0m\u001b[1;32m     12\u001b[0m \u001b[0;34m\u001b[0m\u001b[0m\n\u001b[1;32m     13\u001b[0m         \u001b[0;31m# update rule (≈ 2 lines of code)\u001b[0m\u001b[0;34m\u001b[0m\u001b[0;34m\u001b[0m\u001b[0;34m\u001b[0m\u001b[0m\n",
            "\u001b[0;32m<ipython-input-73-e98aa1022849>\u001b[0m in \u001b[0;36mpropagate\u001b[0;34m(w, X, Y, lambd)\u001b[0m\n\u001b[1;32m     16\u001b[0m     \u001b[0mA\u001b[0m \u001b[0;34m=\u001b[0m \u001b[0msigmoid\u001b[0m\u001b[0;34m(\u001b[0m\u001b[0mnp\u001b[0m\u001b[0;34m.\u001b[0m\u001b[0mdot\u001b[0m\u001b[0;34m(\u001b[0m\u001b[0mw\u001b[0m\u001b[0;34m.\u001b[0m\u001b[0mT\u001b[0m\u001b[0;34m,\u001b[0m \u001b[0mX\u001b[0m\u001b[0;34m)\u001b[0m\u001b[0;34m)\u001b[0m\u001b[0;34m\u001b[0m\u001b[0;34m\u001b[0m\u001b[0m\n\u001b[1;32m     17\u001b[0m     \u001b[0mcost\u001b[0m \u001b[0;34m=\u001b[0m \u001b[0;34m(\u001b[0m\u001b[0;34m-\u001b[0m\u001b[0;36m1\u001b[0m \u001b[0;34m/\u001b[0m \u001b[0mm\u001b[0m\u001b[0;34m)\u001b[0m \u001b[0;34m*\u001b[0m \u001b[0mnp\u001b[0m\u001b[0;34m.\u001b[0m\u001b[0msum\u001b[0m\u001b[0;34m(\u001b[0m\u001b[0;34m(\u001b[0m\u001b[0mY\u001b[0m \u001b[0;34m*\u001b[0m \u001b[0mnp\u001b[0m\u001b[0;34m.\u001b[0m\u001b[0mlog\u001b[0m\u001b[0;34m(\u001b[0m\u001b[0mA\u001b[0m\u001b[0;34m)\u001b[0m\u001b[0;34m)\u001b[0m \u001b[0;34m+\u001b[0m \u001b[0;34m(\u001b[0m\u001b[0;34m(\u001b[0m\u001b[0;36m1\u001b[0m\u001b[0;34m-\u001b[0m\u001b[0mY\u001b[0m\u001b[0;34m)\u001b[0m \u001b[0;34m*\u001b[0m \u001b[0mnp\u001b[0m\u001b[0;34m.\u001b[0m\u001b[0mlog\u001b[0m\u001b[0;34m(\u001b[0m\u001b[0;36m1\u001b[0m\u001b[0;34m-\u001b[0m\u001b[0mA\u001b[0m\u001b[0;34m)\u001b[0m\u001b[0;34m)\u001b[0m\u001b[0;34m)\u001b[0m \u001b[0;34m+\u001b[0m \u001b[0;34m(\u001b[0m\u001b[0mlambd\u001b[0m\u001b[0;34m/\u001b[0m\u001b[0;34m(\u001b[0m\u001b[0;36m2\u001b[0m\u001b[0;34m*\u001b[0m\u001b[0mm\u001b[0m\u001b[0;34m)\u001b[0m\u001b[0;34m)\u001b[0m \u001b[0;34m*\u001b[0m \u001b[0mnp\u001b[0m\u001b[0;34m.\u001b[0m\u001b[0msum\u001b[0m\u001b[0;34m(\u001b[0m\u001b[0mnp\u001b[0m\u001b[0;34m.\u001b[0m\u001b[0mdot\u001b[0m\u001b[0;34m(\u001b[0m\u001b[0mw\u001b[0m\u001b[0;34m,\u001b[0m \u001b[0mw\u001b[0m\u001b[0;34m.\u001b[0m\u001b[0mT\u001b[0m\u001b[0;34m)\u001b[0m\u001b[0;34m)\u001b[0m\u001b[0;34m\u001b[0m\u001b[0;34m\u001b[0m\u001b[0m\n\u001b[0;32m---> 18\u001b[0;31m     \u001b[0mdw\u001b[0m \u001b[0;34m=\u001b[0m \u001b[0;34m(\u001b[0m\u001b[0;36m1\u001b[0m \u001b[0;34m/\u001b[0m \u001b[0mm\u001b[0m\u001b[0;34m)\u001b[0m \u001b[0;34m*\u001b[0m \u001b[0mnp\u001b[0m\u001b[0;34m.\u001b[0m\u001b[0mdot\u001b[0m\u001b[0;34m(\u001b[0m\u001b[0mX\u001b[0m\u001b[0;34m,\u001b[0m \u001b[0;34m(\u001b[0m\u001b[0mA\u001b[0m \u001b[0;34m-\u001b[0m \u001b[0mY\u001b[0m\u001b[0;34m)\u001b[0m\u001b[0;34m.\u001b[0m\u001b[0mT\u001b[0m\u001b[0;34m)\u001b[0m \u001b[0;34m+\u001b[0m \u001b[0;34m(\u001b[0m\u001b[0mlamdb\u001b[0m\u001b[0;34m/\u001b[0m\u001b[0mm\u001b[0m\u001b[0;34m)\u001b[0m \u001b[0;34m*\u001b[0m \u001b[0mw\u001b[0m\u001b[0;34m\u001b[0m\u001b[0;34m\u001b[0m\u001b[0m\n\u001b[0m\u001b[1;32m     19\u001b[0m     \u001b[0;32mreturn\u001b[0m \u001b[0mdw\u001b[0m\u001b[0;34m,\u001b[0m \u001b[0mcost\u001b[0m\u001b[0;34m\u001b[0m\u001b[0;34m\u001b[0m\u001b[0m\n",
            "\u001b[0;31mNameError\u001b[0m: name 'lamdb' is not defined"
          ]
        }
      ]
    },
    {
      "cell_type": "code",
      "source": [
        "from scipy import optimize\n",
        "initial_theta = np.zeros((XX.shape[1],1))\n",
        "def optimizeRegularizedTheta(mytheta,myX,myy,mylambda=0.):\n",
        "    result = optimize.minimize(computeCost, mytheta, args=(myX, myy, mylambda),  method='BFGS', options={\"maxiter\":500, \"disp\":False} )\n",
        "    return np.array([result.x]), result.fun\n",
        "    \n",
        "theta, mincost = optimizeRegularizedTheta(initial_theta,XX,y)\n",
        "print(theta)\n",
        "print(mincost)"
      ],
      "metadata": {
        "id": "MiwC-euqIY9Q"
      },
      "execution_count": null,
      "outputs": []
    },
    {
      "cell_type": "code",
      "source": [
        "def plotBoundary(Nw, XX, y, mylambda=0.):\n",
        "    \"\"\"\n",
        "    Function to plot the decision boundary for arbitrary theta, X, y, lambda value\n",
        "    Inside of this function is feature mapping, and the minimization routine.\n",
        "    It works by making a grid of x1 (\"xvals\") and x2 (\"yvals\") points,\n",
        "    And for each, computing whether the hypothesis classifies that point as\n",
        "    True or False. Then, a contour is drawn with a built-in pyplot function.\n",
        "    \"\"\"\n",
        "    # theta, mincost = optimizeRegularizedTheta(mytheta,myX,myy,mylambda)\n",
        "    w, mincost = optimize(Nw, XX, y.T, num_iterations= 1000000, learning_rate = 0.001, print_cost = False, lambd=mylambda)\n",
        "    print(w, '\\n\\nCost : ', mincost, '\\n \\n ')\n",
        "    xvals = np.linspace(-1,1.5,50)\n",
        "    yvals = np.linspace(-1,1.5,50)\n",
        "    zvals = np.zeros((len(xvals),len(yvals)))\n",
        "    for i in range(len(xvals)):\n",
        "        for j in range(len(yvals)):\n",
        "            myfeaturesij = mapFeature(np.array([xvals[i]]),np.array([yvals[j]]))\n",
        "            zvals[i][j] = np.dot(w.T,myfeaturesij.T)\n",
        "            # print(type(zvals), zvals.shape)\n",
        "    zvals = zvals.transpose()\n",
        "\n",
        "    u, v = np.meshgrid( xvals, yvals )\n",
        "    mycontour = plt.contour( xvals, yvals, zvals, [0])\n",
        "    #Kind of a hacky way to display a text on top of the decision boundary\n",
        "    myfmt = { 0:'Lambda = %d'%mylambda}\n",
        "    plt.clabel(mycontour, inline=1, fontsize=15, fmt=myfmt)\n",
        "    plt.title(\"Decision Boundary\")"
      ],
      "metadata": {
        "id": "n3VQpykTQ1ip"
      },
      "execution_count": 68,
      "outputs": []
    },
    {
      "cell_type": "code",
      "source": [
        "Nw, b = initialize_with_zeros(XX.shape[0])\n",
        "\n",
        "plt.figure(figsize=(12,10))\n",
        "plt.subplot(221)\n",
        "plotData(data, 'Microchip Test 1', 'Microchip Test 2', 'y = 1', 'y = 0')\n",
        "plotBoundary(Nw, XX, y, 0.)\n",
        "\n",
        "plt.subplot(222)\n",
        "plotData(data, 'Microchip Test 1', 'Microchip Test 2', 'y = 1', 'y = 0')\n",
        "plotBoundary(Nw,XX,y,1.)\n",
        "\n",
        "plt.subplot(223)\n",
        "plotData(data, 'Microchip Test 1', 'Microchip Test 2', 'y = 1', 'y = 0')\n",
        "plotBoundary(Nw,XX,y,10.)\n",
        "\n",
        "plt.subplot(224)\n",
        "plotData(data, 'Microchip Test 1', 'Microchip Test 2', 'y = 1', 'y = 0')\n",
        "plotBoundary(Nw,XX,y,50.)"
      ],
      "metadata": {
        "id": "JJvTscBAUJjT",
        "colab": {
          "base_uri": "https://localhost:8080/",
          "height": 1000
        },
        "outputId": "356ce5ea-10ba-4c74-c366-b1f84d7b2c14"
      },
      "execution_count": 78,
      "outputs": [
        {
          "output_type": "stream",
          "name": "stdout",
          "text": [
            "[[ 3.25244274]\n",
            " [ 2.30608816]\n",
            " [ 3.5688447 ]\n",
            " [-5.0283261 ]\n",
            " [-4.11115661]\n",
            " [-4.9824597 ]\n",
            " [ 1.02420559]\n",
            " [-1.50817108]\n",
            " [-0.9483372 ]\n",
            " [-0.33271507]\n",
            " [-4.10498621]\n",
            " [ 0.28791734]\n",
            " [-2.18809451]\n",
            " [-1.54637329]\n",
            " [-3.3736672 ]\n",
            " [-0.60856201]\n",
            " [-0.70798831]\n",
            " [ 0.42613897]\n",
            " [-1.29118117]\n",
            " [-1.49517217]\n",
            " [-0.24580746]\n",
            " [-3.25834248]\n",
            " [ 0.37348819]\n",
            " [-0.97043145]\n",
            " [ 0.2946388 ]\n",
            " [-1.3071119 ]\n",
            " [-1.14328699]\n",
            " [-1.68066442]] \n",
            "\n",
            "Cost :  0.34042056526759507 \n",
            " \n",
            " \n",
            "[[ 1.14213145]\n",
            " [ 0.60132088]\n",
            " [ 1.167178  ]\n",
            " [-1.87174401]\n",
            " [-0.9157084 ]\n",
            " [-1.2695127 ]\n",
            " [ 0.12668332]\n",
            " [-0.36873221]\n",
            " [-0.3451998 ]\n",
            " [-0.17376403]\n",
            " [-1.42385891]\n",
            " [-0.04858534]\n",
            " [-0.60641603]\n",
            " [-0.26931731]\n",
            " [-1.16315361]\n",
            " [-0.24309538]\n",
            " [-0.20708119]\n",
            " [-0.04320545]\n",
            " [-0.28027399]\n",
            " [-0.28695651]\n",
            " [-0.46911904]\n",
            " [-1.03618109]\n",
            " [ 0.02921455]\n",
            " [-0.29262298]\n",
            " [ 0.01734985]\n",
            " [-0.32896723]\n",
            " [-0.13795881]\n",
            " [-0.93200876]] \n",
            "\n",
            "Cost :  0.8613529293511011 \n",
            " \n",
            " \n",
            "[[ 0.21471371]\n",
            " [-0.00759417]\n",
            " [ 0.17609632]\n",
            " [-0.40128043]\n",
            " [-0.11744862]\n",
            " [-0.23187723]\n",
            " [-0.06667994]\n",
            " [-0.05584259]\n",
            " [-0.06214433]\n",
            " [-0.09712316]\n",
            " [-0.31766636]\n",
            " [-0.01468064]\n",
            " [-0.10912919]\n",
            " [-0.03014287]\n",
            " [-0.2676533 ]\n",
            " [-0.11186996]\n",
            " [-0.03627426]\n",
            " [-0.02114481]\n",
            " [-0.04753649]\n",
            " [-0.04037679]\n",
            " [-0.18120239]\n",
            " [-0.24308858]\n",
            " [-0.00364209]\n",
            " [-0.05525125]\n",
            " [-0.00101445]\n",
            " [-0.06093905]\n",
            " [-0.01293853]\n",
            " [-0.26289808]] \n",
            "\n",
            "Cost :  0.8793989684722894 \n",
            " \n",
            " \n",
            "[[ 0.02367075]\n",
            " [-0.02732086]\n",
            " [ 0.02013701]\n",
            " [-0.10146103]\n",
            " [-0.02595638]\n",
            " [-0.06644261]\n",
            " [-0.03145835]\n",
            " [-0.01404218]\n",
            " [-0.01653234]\n",
            " [-0.03791937]\n",
            " [-0.08103052]\n",
            " [-0.00436962]\n",
            " [-0.02637549]\n",
            " [-0.00686971]\n",
            " [-0.07454541]\n",
            " [-0.03755721]\n",
            " [-0.00881311]\n",
            " [-0.00647189]\n",
            " [-0.0117327 ]\n",
            " [-0.00958639]\n",
            " [-0.05668683]\n",
            " [-0.06372685]\n",
            " [-0.00185141]\n",
            " [-0.0132413 ]\n",
            " [-0.00065361]\n",
            " [-0.01492521]\n",
            " [-0.00303372]\n",
            " [-0.07457294]] \n",
            "\n",
            "Cost :  0.797643879555811 \n",
            " \n",
            " \n"
          ]
        },
        {
          "output_type": "display_data",
          "data": {
            "text/plain": [
              "<Figure size 864x720 with 4 Axes>"
            ],
            "image/png": "[encoded data removed]"
          },
          "metadata": {
            "needs_background": "light"
          }
        }
      ]
    },
    {
      "cell_type": "code",
      "source": [],
      "metadata": {
        "id": "9ri6lTSDCqP-"
      },
      "execution_count": null,
      "outputs": []
    }
  ]
}