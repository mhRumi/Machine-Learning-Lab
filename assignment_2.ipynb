{
  "nbformat": 4,
  "nbformat_minor": 0,
  "metadata": {
    "colab": {
      "provenance": [],
      "mount_file_id": "1MgvPyAtfFUDemZ-UtICR_g2aAfjR53kR",
      "authorship_tag": "ABX9TyP2LA4Agomu9jhaIjYWMbkk",
      "include_colab_link": true
    },
    "kernelspec": {
      "name": "python3",
      "display_name": "Python 3"
    },
    "language_info": {
      "name": "python"
    }
  },
  "cells": [
    {
      "cell_type": "markdown",
      "metadata": {
        "id": "view-in-github",
        "colab_type": "text"
      },
      "source": [
        "<a href=\"https://colab.research.google.com/github/mhRumi/Machine-Learning-Lab/blob/main/assignment_2.ipynb\" target=\"_parent\"><img src=\"https://colab.research.google.com/assets/colab-badge.svg\" alt=\"Open In Colab\"/></a>"
      ]
    },
    {
      "cell_type": "code",
      "execution_count": 2,
      "metadata": {
        "id": "kNayRhxvLmGa"
      },
      "outputs": [],
      "source": [
        "import pandas as pd\n",
        "import numpy as np\n",
        "import matplotlib.pyplot as plt\n",
        "import copy\n",
        "import math\n",
        "from matplotlib.patches import FancyArrowPatch\n",
        "from ipywidgets import Output"
      ]
    },
    {
      "cell_type": "code",
      "source": [
        "data = pd.read_csv('/content/drive/MyDrive/ML-Assignment-2/data.txt', names = [\"x1\",\"x2\",\"y\"])\n",
        "data.head()"
      ],
      "metadata": {
        "colab": {
          "base_uri": "https://localhost:8080/",
          "height": 206
        },
        "id": "Te3CrnvNNAM4",
        "outputId": "3cdaf49d-4bb1-41a2-f218-9ac7dadb2254"
      },
      "execution_count": 3,
      "outputs": [
        {
          "output_type": "execute_result",
          "data": {
            "text/plain": [
              "          x1         x2  y\n",
              "0  34.623660  78.024693  0\n",
              "1  30.286711  43.894998  0\n",
              "2  35.847409  72.902198  0\n",
              "3  60.182599  86.308552  1\n",
              "4  79.032736  75.344376  1"
            ],
            "text/html": [
              "\n",
              "  <div id=\"df-ffbd96cf-1290-48b8-9be3-1d9277be2c93\">\n",
              "    <div class=\"colab-df-container\">\n",
              "      <div>\n",
              "<style scoped>\n",
              "    .dataframe tbody tr th:only-of-type {\n",
              "        vertical-align: middle;\n",
              "    }\n",
              "\n",
              "    .dataframe tbody tr th {\n",
              "        vertical-align: top;\n",
              "    }\n",
              "\n",
              "    .dataframe thead th {\n",
              "        text-align: right;\n",
              "    }\n",
              "</style>\n",
              "<table border=\"1\" class=\"dataframe\">\n",
              "  <thead>\n",
              "    <tr style=\"text-align: right;\">\n",
              "      <th></th>\n",
              "      <th>x1</th>\n",
              "      <th>x2</th>\n",
              "      <th>y</th>\n",
              "    </tr>\n",
              "  </thead>\n",
              "  <tbody>\n",
              "    <tr>\n",
              "      <th>0</th>\n",
              "      <td>34.623660</td>\n",
              "      <td>78.024693</td>\n",
              "      <td>0</td>\n",
              "    </tr>\n",
              "    <tr>\n",
              "      <th>1</th>\n",
              "      <td>30.286711</td>\n",
              "      <td>43.894998</td>\n",
              "      <td>0</td>\n",
              "    </tr>\n",
              "    <tr>\n",
              "      <th>2</th>\n",
              "      <td>35.847409</td>\n",
              "      <td>72.902198</td>\n",
              "      <td>0</td>\n",
              "    </tr>\n",
              "    <tr>\n",
              "      <th>3</th>\n",
              "      <td>60.182599</td>\n",
              "      <td>86.308552</td>\n",
              "      <td>1</td>\n",
              "    </tr>\n",
              "    <tr>\n",
              "      <th>4</th>\n",
              "      <td>79.032736</td>\n",
              "      <td>75.344376</td>\n",
              "      <td>1</td>\n",
              "    </tr>\n",
              "  </tbody>\n",
              "</table>\n",
              "</div>\n",
              "      <button class=\"colab-df-convert\" onclick=\"convertToInteractive('df-ffbd96cf-1290-48b8-9be3-1d9277be2c93')\"\n",
              "              title=\"Convert this dataframe to an interactive table.\"\n",
              "              style=\"display:none;\">\n",
              "        \n",
              "  <svg xmlns=\"http://www.w3.org/2000/svg\" height=\"24px\"viewBox=\"0 0 24 24\"\n",
              "       width=\"24px\">\n",
              "    <path d=\"M0 0h24v24H0V0z\" fill=\"none\"/>\n",
              "    <path d=\"M18.56 5.44l.94 2.06.94-2.06 2.06-.94-2.06-.94-.94-2.06-.94 2.06-2.06.94zm-11 1L8.5 8.5l.94-2.06 2.06-.94-2.06-.94L8.5 2.5l-.94 2.06-2.06.94zm10 10l.94 2.06.94-2.06 2.06-.94-2.06-.94-.94-2.06-.94 2.06-2.06.94z\"/><path d=\"M17.41 7.96l-1.37-1.37c-.4-.4-.92-.59-1.43-.59-.52 0-1.04.2-1.43.59L10.3 9.45l-7.72 7.72c-.78.78-.78 2.05 0 2.83L4 21.41c.39.39.9.59 1.41.59.51 0 1.02-.2 1.41-.59l7.78-7.78 2.81-2.81c.8-.78.8-2.07 0-2.86zM5.41 20L4 18.59l7.72-7.72 1.47 1.35L5.41 20z\"/>\n",
              "  </svg>\n",
              "      </button>\n",
              "      \n",
              "  <style>\n",
              "    .colab-df-container {\n",
              "      display:flex;\n",
              "      flex-wrap:wrap;\n",
              "      gap: 12px;\n",
              "    }\n",
              "\n",
              "    .colab-df-convert {\n",
              "      background-color: #E8F0FE;\n",
              "      border: none;\n",
              "      border-radius: 50%;\n",
              "      cursor: pointer;\n",
              "      display: none;\n",
              "      fill: #1967D2;\n",
              "      height: 32px;\n",
              "      padding: 0 0 0 0;\n",
              "      width: 32px;\n",
              "    }\n",
              "\n",
              "    .colab-df-convert:hover {\n",
              "      background-color: #E2EBFA;\n",
              "      box-shadow: 0px 1px 2px rgba(60, 64, 67, 0.3), 0px 1px 3px 1px rgba(60, 64, 67, 0.15);\n",
              "      fill: #174EA6;\n",
              "    }\n",
              "\n",
              "    [theme=dark] .colab-df-convert {\n",
              "      background-color: #3B4455;\n",
              "      fill: #D2E3FC;\n",
              "    }\n",
              "\n",
              "    [theme=dark] .colab-df-convert:hover {\n",
              "      background-color: #434B5C;\n",
              "      box-shadow: 0px 1px 3px 1px rgba(0, 0, 0, 0.15);\n",
              "      filter: drop-shadow(0px 1px 2px rgba(0, 0, 0, 0.3));\n",
              "      fill: #FFFFFF;\n",
              "    }\n",
              "  </style>\n",
              "\n",
              "      <script>\n",
              "        const buttonEl =\n",
              "          document.querySelector('#df-ffbd96cf-1290-48b8-9be3-1d9277be2c93 button.colab-df-convert');\n",
              "        buttonEl.style.display =\n",
              "          google.colab.kernel.accessAllowed ? 'block' : 'none';\n",
              "\n",
              "        async function convertToInteractive(key) {\n",
              "          const element = document.querySelector('#df-ffbd96cf-1290-48b8-9be3-1d9277be2c93');\n",
              "          const dataTable =\n",
              "            await google.colab.kernel.invokeFunction('convertToInteractive',\n",
              "                                                     [key], {});\n",
              "          if (!dataTable) return;\n",
              "\n",
              "          const docLinkHtml = 'Like what you see? Visit the ' +\n",
              "            '<a target=\"_blank\" href=https://colab.research.google.com/notebooks/data_table.ipynb>data table notebook</a>'\n",
              "            + ' to learn more about interactive tables.';\n",
              "          element.innerHTML = '';\n",
              "          dataTable['output_type'] = 'display_data';\n",
              "          await google.colab.output.renderOutput(dataTable, element);\n",
              "          const docLink = document.createElement('div');\n",
              "          docLink.innerHTML = docLinkHtml;\n",
              "          element.appendChild(docLink);\n",
              "        }\n",
              "      </script>\n",
              "    </div>\n",
              "  </div>\n",
              "  "
            ]
          },
          "metadata": {},
          "execution_count": 3
        }
      ]
    },
    {
      "cell_type": "code",
      "source": [
        "def plotData(data, label_x, label_y, label_pos, label_neg, axes=None):\n",
        "    # Get indexes for class 0 and class 1\n",
        "    neg = data['y'] == 0\n",
        "    pos = data['y'] == 1\n",
        "    \n",
        "    # If no specific axes object has been passed, get the current axes.\n",
        "    if axes == None:\n",
        "        axes = plt.gca()\n",
        "    axes.scatter(data[pos]['x1'], data[pos]['x2'], marker='+', c='orange', s=60, linewidth=2, label=label_pos)\n",
        "    axes.scatter(data[neg]['x1'], data[neg]['x2'], c='blue', s=60, label=label_neg)\n",
        "    axes.set_xlabel(label_x)\n",
        "    axes.set_ylabel(label_y)\n",
        "    axes.legend(frameon= True, fancybox = True);"
      ],
      "metadata": {
        "id": "NOv6FgwXN-5d"
      },
      "execution_count": 4,
      "outputs": []
    },
    {
      "cell_type": "code",
      "source": [
        "plotData(data, 'x1', 'x2', 'y = 1', 'y = 0')"
      ],
      "metadata": {
        "colab": {
          "base_uri": "https://localhost:8080/",
          "height": 279
        },
        "id": "M7bwv7GrOVXZ",
        "outputId": "959714f1-026f-49b2-af3d-795c259fdac5"
      },
      "execution_count": 5,
      "outputs": [
        {
          "output_type": "display_data",
          "data": {
            "text/plain": [
              "<Figure size 432x288 with 1 Axes>"
            ],
            "image/png": "[encoded data removed]"
          },
          "metadata": {
            "needs_background": "light"
          }
        }
      ]
    },
    {
      "cell_type": "code",
      "source": [
        "m = data.shape[0]\n",
        "n = data.shape[1] - 1\n",
        "X = data[data.columns[0 : n]].values\n",
        "Y = data[data.columns[n : n+1]].values"
      ],
      "metadata": {
        "id": "7jdXlZ7NSX4f"
      },
      "execution_count": 6,
      "outputs": []
    },
    {
      "cell_type": "code",
      "source": [
        "def sigmoid(z):\n",
        "   s = 1 / (1 + np.exp(-z))\n",
        "   return s"
      ],
      "metadata": {
        "id": "WrfC2Zv4VGQN"
      },
      "execution_count": 7,
      "outputs": []
    },
    {
      "cell_type": "code",
      "source": [
        "def initialize_with_zeros(dim):\n",
        "    \"\"\"\n",
        "    This function creates a vector of zeros of shape (dim, 1) for w and initializes b to 0.\n",
        "    \n",
        "    Argument:\n",
        "    dim -- size of the w vector we want (or number of parameters in this case)\n",
        "    \n",
        "    Returns:\n",
        "    w -- initialized vector of shape (dim, 1)\n",
        "    b -- initialized scalar (corresponds to the bias)\n",
        "    \"\"\"\n",
        "    \n",
        "    ### START CODE HERE ### (≈ 1 line of code)\n",
        "    w = np.zeros([dim, 1])\n",
        "    b = 0.0\n",
        "    ### END CODE HERE ###\n",
        "\n",
        "    assert(w.shape == (dim, 1))\n",
        "    assert(isinstance(b, float) or isinstance(b, int))\n",
        "    \n",
        "    return w, b"
      ],
      "metadata": {
        "id": "XsMmj7oPafYS"
      },
      "execution_count": 8,
      "outputs": []
    },
    {
      "cell_type": "code",
      "source": [
        "X = X.T\n",
        "print(X.shape)"
      ],
      "metadata": {
        "colab": {
          "base_uri": "https://localhost:8080/"
        },
        "id": "vuyokjbgvAuN",
        "outputId": "518cb1b6-a77d-41e2-df14-b02bf8460156"
      },
      "execution_count": 9,
      "outputs": [
        {
          "output_type": "stream",
          "name": "stdout",
          "text": [
            "(2, 100)\n"
          ]
        }
      ]
    },
    {
      "cell_type": "code",
      "source": [
        "def propagate(w, b, X, Y):\n",
        "\n",
        "    m = X.shape[1]\n",
        "  \n",
        "    A = sigmoid(np.dot(w.T, X) + b)\n",
        "    cost = (-1 / m) * np.sum((Y * np.log(A)) + ((1-Y) * np.log(1-A)))\n",
        "\n",
        "    dw = (1 / m) * np.dot(X, (A - Y).T)\n",
        "    db = (1 / m) * np.sum(A - Y)\n",
        "    ### END CODE HERE ###\n",
        "    assert(dw.shape == w.shape)\n",
        "    assert(db.dtype == float)\n",
        "    cost = np.squeeze(cost)\n",
        "    assert(cost.shape == ())\n",
        "    \n",
        "    grads = {\"dw\": dw,\n",
        "             \"db\": db}\n",
        "    \n",
        "    return grads, cost"
      ],
      "metadata": {
        "id": "s1fH4DJMX1Gr"
      },
      "execution_count": 10,
      "outputs": []
    },
    {
      "cell_type": "code",
      "source": [
        "w, b = initialize_with_zeros(X.shape[0])\n",
        "grads, cost = propagate(w, b, X, Y.T)\n",
        "print (\"dw = \" + str(grads[\"dw\"]))\n",
        "print (\"db = \" + str(grads[\"db\"]))\n",
        "print (\"cost = \" + str(cost))\n",
        "\n",
        "\n",
        "\n"
      ],
      "metadata": {
        "colab": {
          "base_uri": "https://localhost:8080/"
        },
        "id": "rIXby54Oalj9",
        "outputId": "1512df87-17ce-47df-c1a3-6c04f9a5fa93"
      },
      "execution_count": 11,
      "outputs": [
        {
          "output_type": "stream",
          "name": "stdout",
          "text": [
            "dw = [[-12.00921659]\n",
            " [-11.26284221]]\n",
            "db = -0.1\n",
            "cost = 0.6931471805599453\n"
          ]
        }
      ]
    },
    {
      "cell_type": "code",
      "source": [
        "def optimize(w, b, X, Y, num_iterations, learning_rate, print_cost = False):\n",
        "    \"\"\"\n",
        "    This function optimizes w and b by running a gradient descent algorithm\n",
        "    \n",
        "    Arguments:\n",
        "    w -- weights, a numpy array of size (num_px * num_px * 3, 1)\n",
        "    b -- bias, a scalar\n",
        "    X -- data of shape (num_px * num_px * 3, number of examples)\n",
        "    Y -- true \"label\" vector (containing 0 if non-cat, 1 if cat), of shape (1, number of examples)\n",
        "    num_iterations -- number of iterations of the optimization loop\n",
        "    learning_rate -- learning rate of the gradient descent update rule\n",
        "    print_cost -- True to print the loss every 100 steps\n",
        "    \n",
        "    Returns:\n",
        "    params -- dictionary containing the weights w and bias b\n",
        "    grads -- dictionary containing the gradients of the weights and bias with respect to the cost function\n",
        "    costs -- list of all the costs computed during the optimization, this will be used to plot the learning curve.\n",
        "    \n",
        "    Tips:\n",
        "    You basically need to write down two steps and iterate through them:\n",
        "        1) Calculate the cost and the gradient for the current parameters. Use propagate().\n",
        "        2) Update the parameters using gradient descent rule for w and b.\n",
        "    \"\"\"\n",
        "    \n",
        "    costs = []\n",
        "    \n",
        "    for i in range(num_iterations):\n",
        "        \n",
        "        \n",
        "        # Cost and gradient calculation (≈ 1-4 lines of code)\n",
        "        ### START CODE HERE ### \n",
        "        grads, cost = propagate(w, b, X, Y)\n",
        "        ### END CODE HERE ###\n",
        "        \n",
        "        # Retrieve derivatives from grads\n",
        "        dw = grads[\"dw\"]\n",
        "        db = grads[\"db\"]\n",
        "        \n",
        "        # update rule (≈ 2 lines of code)\n",
        "        ### START CODE HERE ###\n",
        "        w = w - learning_rate * dw\n",
        "        b = b - learning_rate * db\n",
        "        ### END CODE HERE ###\n",
        "        \n",
        "        # Record the costs\n",
        "        if i % 100 == 0:\n",
        "            costs.append(cost)\n",
        "        \n",
        "        # Print the cost every 100 training iterations\n",
        "        if print_cost and i % 10000 == 0:\n",
        "            print (\"Cost after iteration %i: %f\" %(i, cost))\n",
        "    \n",
        "    params = {\"w\": w,\n",
        "              \"b\": b}\n",
        "    \n",
        "    grads = {\"dw\": dw,\n",
        "             \"db\": db}\n",
        "    \n",
        "    return params, grads, costs"
      ],
      "metadata": {
        "id": "ikjizrE4ccl5"
      },
      "execution_count": 12,
      "outputs": []
    },
    {
      "cell_type": "code",
      "source": [
        "params, grads, costs = optimize(w, b, X, Y.T, num_iterations= 1000000, learning_rate = 0.001, print_cost = True)"
      ],
      "metadata": {
        "colab": {
          "base_uri": "https://localhost:8080/"
        },
        "id": "cGugkxRGdLGx",
        "outputId": "76824cbb-5444-4d42-eee1-6454206263ac"
      },
      "execution_count": 13,
      "outputs": [
        {
          "output_type": "stream",
          "name": "stdout",
          "text": [
            "Cost after iteration 0: 0.693147\n",
            "Cost after iteration 10000: 0.585027\n",
            "Cost after iteration 20000: 0.547295\n",
            "Cost after iteration 30000: 0.515402\n",
            "Cost after iteration 40000: 0.488296\n",
            "Cost after iteration 50000: 0.465105\n",
            "Cost after iteration 60000: 0.445119\n",
            "Cost after iteration 70000: 0.427768\n",
            "Cost after iteration 80000: 0.412594\n",
            "Cost after iteration 90000: 0.399233\n",
            "Cost after iteration 100000: 0.387390\n",
            "Cost after iteration 110000: 0.376827\n",
            "Cost after iteration 120000: 0.367353\n",
            "Cost after iteration 130000: 0.358811\n",
            "Cost after iteration 140000: 0.351071\n",
            "Cost after iteration 150000: 0.344025\n",
            "Cost after iteration 160000: 0.337586\n",
            "Cost after iteration 170000: 0.331678\n",
            "Cost after iteration 180000: 0.326238\n",
            "Cost after iteration 190000: 0.321212\n",
            "Cost after iteration 200000: 0.316554\n",
            "Cost after iteration 210000: 0.312226\n",
            "Cost after iteration 220000: 0.308193\n",
            "Cost after iteration 230000: 0.304425\n",
            "Cost after iteration 240000: 0.300898\n",
            "Cost after iteration 250000: 0.297588\n",
            "Cost after iteration 260000: 0.294476\n",
            "Cost after iteration 270000: 0.291545\n",
            "Cost after iteration 280000: 0.288778\n",
            "Cost after iteration 290000: 0.286163\n",
            "Cost after iteration 300000: 0.283687\n",
            "Cost after iteration 310000: 0.281339\n",
            "Cost after iteration 320000: 0.279110\n",
            "Cost after iteration 330000: 0.276990\n",
            "Cost after iteration 340000: 0.274971\n",
            "Cost after iteration 350000: 0.273047\n",
            "Cost after iteration 360000: 0.271211\n",
            "Cost after iteration 370000: 0.269457\n",
            "Cost after iteration 380000: 0.267780\n",
            "Cost after iteration 390000: 0.266174\n",
            "Cost after iteration 400000: 0.264635\n",
            "Cost after iteration 410000: 0.263159\n",
            "Cost after iteration 420000: 0.261742\n",
            "Cost after iteration 430000: 0.260381\n",
            "Cost after iteration 440000: 0.259073\n",
            "Cost after iteration 450000: 0.257814\n",
            "Cost after iteration 460000: 0.256601\n",
            "Cost after iteration 470000: 0.255433\n",
            "Cost after iteration 480000: 0.254306\n",
            "Cost after iteration 490000: 0.253219\n",
            "Cost after iteration 500000: 0.252170\n",
            "Cost after iteration 510000: 0.251156\n",
            "Cost after iteration 520000: 0.250177\n",
            "Cost after iteration 530000: 0.249229\n",
            "Cost after iteration 540000: 0.248312\n",
            "Cost after iteration 550000: 0.247424\n",
            "Cost after iteration 560000: 0.246564\n",
            "Cost after iteration 570000: 0.245731\n",
            "Cost after iteration 580000: 0.244923\n",
            "Cost after iteration 590000: 0.244140\n",
            "Cost after iteration 600000: 0.243379\n",
            "Cost after iteration 610000: 0.242641\n",
            "Cost after iteration 620000: 0.241924\n",
            "Cost after iteration 630000: 0.241227\n",
            "Cost after iteration 640000: 0.240550\n",
            "Cost after iteration 650000: 0.239892\n",
            "Cost after iteration 660000: 0.239252\n",
            "Cost after iteration 670000: 0.238628\n",
            "Cost after iteration 680000: 0.238022\n",
            "Cost after iteration 690000: 0.237431\n",
            "Cost after iteration 700000: 0.236856\n",
            "Cost after iteration 710000: 0.236296\n",
            "Cost after iteration 720000: 0.235750\n",
            "Cost after iteration 730000: 0.235217\n",
            "Cost after iteration 740000: 0.234698\n",
            "Cost after iteration 750000: 0.234192\n",
            "Cost after iteration 760000: 0.233698\n",
            "Cost after iteration 770000: 0.233216\n",
            "Cost after iteration 780000: 0.232745\n",
            "Cost after iteration 790000: 0.232285\n",
            "Cost after iteration 800000: 0.231836\n",
            "Cost after iteration 810000: 0.231398\n",
            "Cost after iteration 820000: 0.230969\n",
            "Cost after iteration 830000: 0.230550\n",
            "Cost after iteration 840000: 0.230140\n",
            "Cost after iteration 850000: 0.229740\n",
            "Cost after iteration 860000: 0.229348\n",
            "Cost after iteration 870000: 0.228965\n",
            "Cost after iteration 880000: 0.228590\n",
            "Cost after iteration 890000: 0.228224\n",
            "Cost after iteration 900000: 0.227864\n",
            "Cost after iteration 910000: 0.227513\n",
            "Cost after iteration 920000: 0.227169\n",
            "Cost after iteration 930000: 0.226832\n",
            "Cost after iteration 940000: 0.226501\n",
            "Cost after iteration 950000: 0.226178\n",
            "Cost after iteration 960000: 0.225861\n",
            "Cost after iteration 970000: 0.225550\n",
            "Cost after iteration 980000: 0.225245\n",
            "Cost after iteration 990000: 0.224947\n"
          ]
        }
      ]
    },
    {
      "cell_type": "code",
      "source": [
        "X = X.T"
      ],
      "metadata": {
        "id": "6jFMabIjZerG"
      },
      "execution_count": 14,
      "outputs": []
    },
    {
      "cell_type": "code",
      "source": [
        "dw, db = grads['dw'], grads['db']"
      ],
      "metadata": {
        "id": "yqxpgnPzf13H"
      },
      "execution_count": 27,
      "outputs": []
    },
    {
      "cell_type": "code",
      "source": [
        "fig,ax = plt.subplots(1,1,figsize=(5,4))\n",
        "\n",
        "# Plot the original data\n",
        "ax.set_ylabel(r'$x_1$')\n",
        "ax.set_xlabel(r'$x_0$')   \n",
        "ax.axis([0, 120, 0, 120])\n",
        "\n",
        "pos_label=\"y=1\"\n",
        "neg_label=\"y=0\"\n",
        "\n",
        "neg = data['y'] == 0\n",
        "pos = data['y'] == 1\n",
        "# Plot examples\n",
        "ax.scatter(X[pos, 0], X[pos, 1], marker='x', s=80, c = 'red', label=pos_label)\n",
        "ax.scatter(X[neg, 0], X[neg, 1], marker='o', s=80, label=neg_label, facecolors='none', edgecolors='#0096ff', lw=3)\n",
        "ax.legend(loc='best' )\n",
        "\n",
        "ax.figure.canvas.toolbar_visible = False\n",
        "ax.figure.canvas.header_visible = False\n",
        "ax.figure.canvas.footer_visible = False\n",
        "\n",
        "#Plot the decision boundary\n",
        "x0 = -db/dw[0]\n",
        "x1 = -db/dw[1]\n",
        "ax.plot([0,x0],[x1,0], c='#0096ff', lw=1)\n",
        "plt.show()"
      ],
      "metadata": {
        "colab": {
          "base_uri": "https://localhost:8080/",
          "height": 340
        },
        "id": "f36ewnQifYgU",
        "outputId": "36c247f0-6bbe-4e1b-d204-c7651c50a639"
      },
      "execution_count": 28,
      "outputs": [
        {
          "output_type": "stream",
          "name": "stderr",
          "text": [
            "/usr/local/lib/python3.7/dist-packages/numpy/core/shape_base.py:65: VisibleDeprecationWarning: Creating an ndarray from ragged nested sequences (which is a list-or-tuple of lists-or-tuples-or ndarrays with different lengths or shapes) is deprecated. If you meant to do this, you must specify 'dtype=object' when creating the ndarray.\n",
            "  ary = asanyarray(ary)\n"
          ]
        },
        {
          "output_type": "display_data",
          "data": {
            "text/plain": [
              "<Figure size 360x288 with 1 Axes>"
            ],
            "image/png": "[encoded data removed]"
          },
          "metadata": {
            "needs_background": "light"
          }
        }
      ]
    },
    {
      "cell_type": "code",
      "source": [],
      "metadata": {
        "colab": {
          "base_uri": "https://localhost:8080/"
        },
        "id": "Cw-2O7GIWWKm",
        "outputId": "635f71c2-b826-4f72-f05d-7945b1ded16a"
      },
      "execution_count": 18,
      "outputs": [
        {
          "output_type": "execute_result",
          "data": {
            "text/plain": [
              "array([60.18259939, 79.03273605, 61.10666454, 75.02474557, 76.0987867 ,\n",
              "       84.43281996, 82.30705337, 69.36458876, 53.97105215, 69.07014406,\n",
              "       70.66150955, 76.97878373, 89.67677575, 77.92409145, 62.27101367,\n",
              "       80.19018075, 61.37928945, 85.40451939, 52.04540477, 64.17698887,\n",
              "       83.90239366, 94.44336777, 77.19303493, 97.77159928, 62.0730638 ,\n",
              "       91.5649745 , 79.94481794, 99.27252693, 90.54671411, 97.64563396,\n",
              "       74.24869137, 71.79646206, 75.39561147, 40.45755098, 80.27957401,\n",
              "       66.74671857, 64.03932042, 72.34649423, 60.45788574, 58.84095622,\n",
              "       99.8278578 , 47.26426911, 50.4581598 , 88.91389642, 94.83450672,\n",
              "       67.31925747, 57.23870632, 80.366756  , 68.46852179, 75.47770201,\n",
              "       78.63542435, 94.09433113, 90.44855097, 74.49269242, 89.84580671,\n",
              "       83.48916274, 42.26170081, 99.31500881, 55.34001756, 74.775893  ])"
            ]
          },
          "metadata": {},
          "execution_count": 18
        }
      ]
    },
    {
      "cell_type": "code",
      "source": [],
      "metadata": {
        "id": "l2z9TuT7VMFH"
      },
      "execution_count": 121,
      "outputs": []
    }
  ]
}