{
  "nbformat": 4,
  "nbformat_minor": 0,
  "metadata": {
    "colab": {
      "provenance": [],
      "include_colab_link": true
    },
    "kernelspec": {
      "name": "python3",
      "display_name": "Python 3"
    },
    "language_info": {
      "name": "python"
    },
    "accelerator": "GPU",
    "gpuClass": "standard"
  },
  "cells": [
    {
      "cell_type": "markdown",
      "metadata": {
        "id": "view-in-github",
        "colab_type": "text"
      },
      "source": [
        "<a href=\"https://colab.research.google.com/github/mhRumi/Machine-Learning-Lab/blob/main/Rumi_2017831023_CNN_ML_Assignment.ipynb\" target=\"_parent\"><img src=\"https://colab.research.google.com/assets/colab-badge.svg\" alt=\"Open In Colab\"/></a>"
      ]
    },
    {
      "cell_type": "markdown",
      "source": [
        "# Dataset Access"
      ],
      "metadata": {
        "id": "kdf9ocs3wD-C"
      }
    },
    {
      "cell_type": "code",
      "source": [
        "from google.colab import drive\n",
        "drive.mount('/content/drive')\n",
        "\n",
        "# %cd '/content/drive/MyDrive/ML_LAB_FINAL'\n",
        "# !unzip CNN_dataset.zip"
      ],
      "metadata": {
        "colab": {
          "base_uri": "https://localhost:8080/"
        },
        "id": "jl9Hw7wwyuPL",
        "outputId": "b96ad95a-ba76-4bb5-a8ec-8236f7bf134b"
      },
      "execution_count": 11,
      "outputs": [
        {
          "output_type": "stream",
          "name": "stdout",
          "text": [
            "Drive already mounted at /content/drive; to attempt to forcibly remount, call drive.mount(\"/content/drive\", force_remount=True).\n"
          ]
        }
      ]
    },
    {
      "cell_type": "code",
      "source": [
        "import os\n",
        "import cv2\n",
        "import numpy as np\n",
        "from sklearn.model_selection import train_test_split\n",
        "\n",
        "dir_path = '/content/drive/MyDrive/ML_LAB_FINAL/CNN_dataset/'\n",
        "\n",
        "train_split = 0.75\n",
        "val_split = 0.1\n",
        "test_split = 0.15\n",
        "\n",
        "images = []\n",
        "labels = []\n",
        "\n",
        "class_names = ['AbdomenCT', 'CXR', 'ChestCT', 'Hand', 'HeadCT']"
      ],
      "metadata": {
        "id": "sV6cs1NWlNjx"
      },
      "execution_count": 14,
      "outputs": []
    },
    {
      "cell_type": "code",
      "source": [
        "for i, class_name in enumerate(class_names):\n",
        "  class_path = os.path.join(dir_path, class_name)\n",
        "  for img_name in os.listdir(class_path):\n",
        "      img_path = os.path.join(class_path, img_name)\n",
        "      img = cv2.imread(img_path, cv2.IMREAD_GRAYSCALE)\n",
        "      img = cv2.resize(img, (64, 64))\n",
        "      images.append(img)\n",
        "      labels.append(i)"
      ],
      "metadata": {
        "id": "j4cRJv3ClqOv"
      },
      "execution_count": 15,
      "outputs": []
    },
    {
      "cell_type": "code",
      "source": [
        "images = np.array(images, dtype=np.float32)\n",
        "images = np.expand_dims(images, axis=-1)\n",
        "labels = np.array(labels, dtype=np.int32)"
      ],
      "metadata": {
        "id": "dw4YRcQomMOJ"
      },
      "execution_count": 16,
      "outputs": []
    },
    {
      "cell_type": "code",
      "source": [
        "x_train, x_test, y_train, y_test = train_test_split(\n",
        "    images, labels, test_size=test_split, stratify=labels, random_state=42)\n",
        "\n",
        "x_train, x_val, y_train, y_val = train_test_split(\n",
        "    x_train, y_train, test_size=val_split/(train_split-val_split),\n",
        "    stratify=y_train, random_state=42)"
      ],
      "metadata": {
        "id": "v0OUE-BjmcLd"
      },
      "execution_count": 17,
      "outputs": []
    },
    {
      "cell_type": "code",
      "source": [
        "import matplotlib.pyplot as plt\n",
        "\n",
        "plt.xticks([])\n",
        "plt.yticks([])\n",
        "plt.xlabel([y_train[5]])\n",
        "plt.imshow(x_train[5],cmap=plt.cm.binary)"
      ],
      "metadata": {
        "colab": {
          "base_uri": "https://localhost:8080/",
          "height": 283
        },
        "id": "enJy02ZrpUKA",
        "outputId": "b3877bc8-b269-411f-e436-17103f1f7a71"
      },
      "execution_count": 19,
      "outputs": [
        {
          "output_type": "execute_result",
          "data": {
            "text/plain": [
              "<matplotlib.image.AxesImage at 0x7ff92679fee0>"
            ]
          },
          "metadata": {},
          "execution_count": 19
        },
        {
          "output_type": "display_data",
          "data": {
            "text/plain": [
              "<Figure size 432x288 with 1 Axes>"
            ],
            "image/png": "[encoded data removed]"
          },
          "metadata": {}
        }
      ]
    },
    {
      "cell_type": "code",
      "source": [
        "x_train /= 255.\n",
        "x_val /= 255.\n",
        "x_test /= 255."
      ],
      "metadata": {
        "id": "lgJPYq3kqI68"
      },
      "execution_count": 20,
      "outputs": []
    },
    {
      "cell_type": "code",
      "source": [
        "from tensorflow.keras.preprocessing import image\n",
        "from tensorflow.keras.preprocessing.image import ImageDataGenerator\n",
        "from tensorflow.keras.models import Sequential, load_model\n",
        "from tensorflow.keras.optimizers import RMSprop\n",
        "from tensorflow.keras.callbacks import ReduceLROnPlateau\n",
        "from tensorflow.keras.layers import Dense, Flatten, Conv2D, Dropout, MaxPooling2D, AvgPool2D\n",
        "from tensorflow.keras.callbacks import CSVLogger, ModelCheckpoint, ReduceLROnPlateau, EarlyStopping"
      ],
      "metadata": {
        "id": "ur_gFnA9q5YA"
      },
      "execution_count": 21,
      "outputs": []
    },
    {
      "cell_type": "code",
      "source": [
        "import tensorflow as tf\n",
        "model = tf.keras.Sequential()\n",
        "model.add(Conv2D(filters=64, kernel_size=(2,2),strides=(1, 1), padding='same', activation='relu', input_shape=(64,64,1))) \n",
        "model.add(MaxPooling2D(pool_size=(2,2)))\n",
        "model.add(Dropout(0.3))\n",
        "model.add(Conv2D(filters=32, kernel_size=(2,2),strides=(1, 1), padding='same', activation='relu'))\n",
        "model.add(MaxPooling2D(pool_size=(2,2)))\n",
        "model.add(Dropout(0.3))\n",
        "model.add(Conv2D(filters=64, kernel_size=(2,2),strides=(1, 1), padding='same', activation='relu'))\n",
        "model.add(MaxPooling2D(pool_size=(2,2)))\n",
        "model.add(Flatten())\n",
        "model.add(Dense(256, activation='relu'))\n",
        "model.add(Dropout(0.3))\n",
        "model.add(Dense(5, activation='softmax'))\n",
        "model.summary()"
      ],
      "metadata": {
        "colab": {
          "base_uri": "https://localhost:8080/"
        },
        "id": "KoYLilOFr3eA",
        "outputId": "7392abaf-9884-4d97-ede5-0e197be14039"
      },
      "execution_count": 23,
      "outputs": [
        {
          "output_type": "stream",
          "name": "stdout",
          "text": [
            "Model: \"sequential_1\"\n",
            "_________________________________________________________________\n",
            " Layer (type)                Output Shape              Param #   \n",
            "=================================================================\n",
            " conv2d_3 (Conv2D)           (None, 64, 64, 64)        320       \n",
            "                                                                 \n",
            " max_pooling2d_3 (MaxPooling  (None, 32, 32, 64)       0         \n",
            " 2D)                                                             \n",
            "                                                                 \n",
            " dropout_3 (Dropout)         (None, 32, 32, 64)        0         \n",
            "                                                                 \n",
            " conv2d_4 (Conv2D)           (None, 32, 32, 32)        8224      \n",
            "                                                                 \n",
            " max_pooling2d_4 (MaxPooling  (None, 16, 16, 32)       0         \n",
            " 2D)                                                             \n",
            "                                                                 \n",
            " dropout_4 (Dropout)         (None, 16, 16, 32)        0         \n",
            "                                                                 \n",
            " conv2d_5 (Conv2D)           (None, 16, 16, 64)        8256      \n",
            "                                                                 \n",
            " max_pooling2d_5 (MaxPooling  (None, 8, 8, 64)         0         \n",
            " 2D)                                                             \n",
            "                                                                 \n",
            " flatten_1 (Flatten)         (None, 4096)              0         \n",
            "                                                                 \n",
            " dense_2 (Dense)             (None, 256)               1048832   \n",
            "                                                                 \n",
            " dropout_5 (Dropout)         (None, 256)               0         \n",
            "                                                                 \n",
            " dense_3 (Dense)             (None, 5)                 1285      \n",
            "                                                                 \n",
            "=================================================================\n",
            "Total params: 1,066,917\n",
            "Trainable params: 1,066,917\n",
            "Non-trainable params: 0\n",
            "_________________________________________________________________\n"
          ]
        }
      ]
    },
    {
      "cell_type": "code",
      "source": [
        "model.compile(loss='sparse_categorical_crossentropy', optimizer='adam', metrics=['accuracy'])"
      ],
      "metadata": {
        "id": "y36Nl_iatkqh"
      },
      "execution_count": 24,
      "outputs": []
    },
    {
      "cell_type": "code",
      "source": [
        "x_train = x_train.reshape(-1,64, 64,1) #Reshape for CNN \n",
        "x_test = x_test.reshape(-1,64, 64, 1)\n",
        "x_train.shape"
      ],
      "metadata": {
        "colab": {
          "base_uri": "https://localhost:8080/"
        },
        "id": "BgOMyGlKtw9g",
        "outputId": "feff3841-cffe-44f9-bdef-9388a7295816"
      },
      "execution_count": 25,
      "outputs": [
        {
          "output_type": "execute_result",
          "data": {
            "text/plain": [
              "(35961, 64, 64, 1)"
            ]
          },
          "metadata": {},
          "execution_count": 25
        }
      ]
    },
    {
      "cell_type": "code",
      "source": [
        "model_log=model.fit(x_train, y_train,\n",
        "          batch_size=60,\n",
        "          epochs=10,\n",
        "          verbose=1,\n",
        "          validation_split=.3)"
      ],
      "metadata": {
        "colab": {
          "base_uri": "https://localhost:8080/"
        },
        "id": "8rAW7xj8t-t6",
        "outputId": "1cbc2253-2444-4c40-8455-9c378f6bcf72"
      },
      "execution_count": 26,
      "outputs": [
        {
          "output_type": "stream",
          "name": "stdout",
          "text": [
            "Epoch 1/10\n",
            "420/420 [==============================] - 19s 17ms/step - loss: 0.1030 - accuracy: 0.9696 - val_loss: 0.0195 - val_accuracy: 0.9966\n",
            "Epoch 2/10\n",
            "420/420 [==============================] - 6s 15ms/step - loss: 0.0119 - accuracy: 0.9964 - val_loss: 0.0505 - val_accuracy: 0.9956\n",
            "Epoch 3/10\n",
            "420/420 [==============================] - 6s 14ms/step - loss: 0.0079 - accuracy: 0.9975 - val_loss: 0.0207 - val_accuracy: 0.9964\n",
            "Epoch 4/10\n",
            "420/420 [==============================] - 6s 14ms/step - loss: 0.0075 - accuracy: 0.9975 - val_loss: 0.0218 - val_accuracy: 0.9984\n",
            "Epoch 5/10\n",
            "420/420 [==============================] - 6s 14ms/step - loss: 0.0046 - accuracy: 0.9986 - val_loss: 0.0034 - val_accuracy: 0.9992\n",
            "Epoch 6/10\n",
            "420/420 [==============================] - 6s 14ms/step - loss: 0.0052 - accuracy: 0.9979 - val_loss: 0.0240 - val_accuracy: 0.9978\n",
            "Epoch 7/10\n",
            "420/420 [==============================] - 6s 14ms/step - loss: 0.0031 - accuracy: 0.9987 - val_loss: 0.0280 - val_accuracy: 0.9965\n",
            "Epoch 8/10\n",
            "420/420 [==============================] - 6s 14ms/step - loss: 0.0023 - accuracy: 0.9990 - val_loss: 0.0038 - val_accuracy: 0.9987\n",
            "Epoch 9/10\n",
            "420/420 [==============================] - 6s 15ms/step - loss: 0.0087 - accuracy: 0.9979 - val_loss: 0.4621 - val_accuracy: 0.8726\n",
            "Epoch 10/10\n",
            "420/420 [==============================] - 6s 15ms/step - loss: 0.0117 - accuracy: 0.9972 - val_loss: 0.0052 - val_accuracy: 0.9988\n"
          ]
        }
      ]
    },
    {
      "cell_type": "code",
      "source": [
        "score = model.evaluate(x_test, y_test, verbose=0)\n",
        "print('\\n', 'Test accuracy:', score[1])"
      ],
      "metadata": {
        "colab": {
          "base_uri": "https://localhost:8080/"
        },
        "id": "B7KJnkALuWRe",
        "outputId": "8cc92126-6ce7-41d8-a89b-ad16270d2191"
      },
      "execution_count": null,
      "outputs": [
        {
          "output_type": "stream",
          "name": "stdout",
          "text": [
            "\n",
            " Test accuracy: 0.9958666563034058\n"
          ]
        }
      ]
    },
    {
      "cell_type": "code",
      "source": [
        "predictions = model.predict(x_test)\n",
        "predictions[0]"
      ],
      "metadata": {
        "colab": {
          "base_uri": "https://localhost:8080/"
        },
        "id": "wVQxNn9RujNb",
        "outputId": "cc88ccf0-28de-4dc6-b3aa-28c92357b83d"
      },
      "execution_count": 27,
      "outputs": [
        {
          "output_type": "stream",
          "name": "stdout",
          "text": [
            "235/235 [==============================] - 1s 3ms/step\n"
          ]
        },
        {
          "output_type": "execute_result",
          "data": {
            "text/plain": [
              "array([8.1235271e-15, 9.9999964e-01, 1.9095319e-07, 1.6500267e-07,\n",
              "       1.6228712e-12], dtype=float32)"
            ]
          },
          "metadata": {},
          "execution_count": 27
        }
      ]
    },
    {
      "cell_type": "code",
      "source": [
        "np.argmax(predictions[0])"
      ],
      "metadata": {
        "colab": {
          "base_uri": "https://localhost:8080/"
        },
        "id": "pLjco3w1vBes",
        "outputId": "4ba0a84b-493b-4b06-a35d-febf3ba3985d"
      },
      "execution_count": 28,
      "outputs": [
        {
          "output_type": "execute_result",
          "data": {
            "text/plain": [
              "1"
            ]
          },
          "metadata": {},
          "execution_count": 28
        }
      ]
    },
    {
      "cell_type": "code",
      "source": [
        "x_test = x_test.reshape(-1, 64, 64)\n",
        "x_test.shape"
      ],
      "metadata": {
        "colab": {
          "base_uri": "https://localhost:8080/"
        },
        "id": "otNNTFSbvIea",
        "outputId": "caca99b2-3fc3-4325-e6fb-5c523dae21e9"
      },
      "execution_count": 29,
      "outputs": [
        {
          "output_type": "execute_result",
          "data": {
            "text/plain": [
              "(7500, 64, 64)"
            ]
          },
          "metadata": {},
          "execution_count": 29
        }
      ]
    },
    {
      "cell_type": "code",
      "source": [
        "plt.xticks([])\n",
        "plt.yticks([])\n",
        "plt.xlabel([y_test[0]])\n",
        "plt.imshow(x_test[0],cmap=plt.cm.binary)"
      ],
      "metadata": {
        "colab": {
          "base_uri": "https://localhost:8080/",
          "height": 283
        },
        "id": "G1MT5r1_vSv_",
        "outputId": "b1e8768a-72ac-46cd-b356-3c48962d0a51"
      },
      "execution_count": 30,
      "outputs": [
        {
          "output_type": "execute_result",
          "data": {
            "text/plain": [
              "<matplotlib.image.AxesImage at 0x7ff850137340>"
            ]
          },
          "metadata": {},
          "execution_count": 30
        },
        {
          "output_type": "display_data",
          "data": {
            "text/plain": [
              "<Figure size 432x288 with 1 Axes>"
            ],
            "image/png": "[encoded data removed]"
          },
          "metadata": {}
        }
      ]
    },
    {
      "cell_type": "code",
      "source": [
        "import os\n",
        "fig = plt.figure()\n",
        "plt.subplot(2,1,1)\n",
        "plt.plot(model_log.history['accuracy'])\n",
        "plt.plot(model_log.history['val_accuracy'])\n",
        "plt.title('model accuracy')\n",
        "plt.ylabel('accuracy')\n",
        "plt.xlabel('epoch')\n",
        "plt.legend(['train', 'test'], loc='lower right')\n",
        "plt.subplot(2,1,2)\n",
        "plt.plot(model_log.history['loss'])\n",
        "plt.plot(model_log.history['val_loss'])\n",
        "plt.title('model loss')\n",
        "plt.ylabel('loss')\n",
        "plt.xlabel('epoch')\n",
        "plt.legend(['train', 'test'], loc='upper right')\n",
        "plt.tight_layout()"
      ],
      "metadata": {
        "colab": {
          "base_uri": "https://localhost:8080/",
          "height": 297
        },
        "id": "zYmY9CdBvtiH",
        "outputId": "a1637a8a-ad44-47f1-bec3-cc3ce8c8b997"
      },
      "execution_count": 31,
      "outputs": [
        {
          "output_type": "display_data",
          "data": {
            "text/plain": [
              "<Figure size 432x288 with 2 Axes>"
            ],
            "image/png": "[encoded data removed]"
          },
          "metadata": {
            "needs_background": "light"
          }
        }
      ]
    },
    {
      "cell_type": "code",
      "source": [],
      "metadata": {
        "id": "h8MlFM3plS2C"
      },
      "execution_count": null,
      "outputs": []
    }
  ]
}